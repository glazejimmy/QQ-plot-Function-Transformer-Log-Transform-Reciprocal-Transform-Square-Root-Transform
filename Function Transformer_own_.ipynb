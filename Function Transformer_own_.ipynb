{
 "cells": [
  {
   "cell_type": "code",
   "execution_count": 1,
   "id": "58054dcb",
   "metadata": {},
   "outputs": [],
   "source": [
    "import pandas as pd\n",
    "import numpy as np\n",
    "\n",
    "import scipy.stats as stats\n",
    "\n",
    "import matplotlib.pyplot as plt\n",
    "import seaborn as sns\n",
    "\n",
    "from sklearn.model_selection import train_test_split\n",
    "from sklearn.model_selection import cross_val_score\n",
    "from sklearn.metrics import accuracy_score\n",
    "from sklearn.preprocessing import OneHotEncoder\n",
    "\n",
    "from sklearn.linear_model import LogisticRegression\n",
    "from sklearn.tree import DecisionTreeClassifier\n",
    "\n",
    "from sklearn.preprocessing import FunctionTransformer\n",
    "from sklearn.compose import ColumnTransformer"
   ]
  },
  {
   "cell_type": "code",
   "execution_count": 2,
   "id": "e763d5f8",
   "metadata": {
    "scrolled": true
   },
   "outputs": [
    {
     "data": {
      "text/html": [
       "<div>\n",
       "<style scoped>\n",
       "    .dataframe tbody tr th:only-of-type {\n",
       "        vertical-align: middle;\n",
       "    }\n",
       "\n",
       "    .dataframe tbody tr th {\n",
       "        vertical-align: top;\n",
       "    }\n",
       "\n",
       "    .dataframe thead th {\n",
       "        text-align: right;\n",
       "    }\n",
       "</style>\n",
       "<table border=\"1\" class=\"dataframe\">\n",
       "  <thead>\n",
       "    <tr style=\"text-align: right;\">\n",
       "      <th></th>\n",
       "      <th>age</th>\n",
       "      <th>fever</th>\n",
       "      <th>has_covid</th>\n",
       "    </tr>\n",
       "  </thead>\n",
       "  <tbody>\n",
       "    <tr>\n",
       "      <th>76</th>\n",
       "      <td>80</td>\n",
       "      <td>100.0</td>\n",
       "      <td>Yes</td>\n",
       "    </tr>\n",
       "    <tr>\n",
       "      <th>60</th>\n",
       "      <td>24</td>\n",
       "      <td>102.0</td>\n",
       "      <td>Yes</td>\n",
       "    </tr>\n",
       "    <tr>\n",
       "      <th>67</th>\n",
       "      <td>65</td>\n",
       "      <td>99.0</td>\n",
       "      <td>No</td>\n",
       "    </tr>\n",
       "    <tr>\n",
       "      <th>59</th>\n",
       "      <td>6</td>\n",
       "      <td>104.0</td>\n",
       "      <td>Yes</td>\n",
       "    </tr>\n",
       "    <tr>\n",
       "      <th>4</th>\n",
       "      <td>65</td>\n",
       "      <td>101.0</td>\n",
       "      <td>No</td>\n",
       "    </tr>\n",
       "    <tr>\n",
       "      <th>87</th>\n",
       "      <td>47</td>\n",
       "      <td>101.0</td>\n",
       "      <td>No</td>\n",
       "    </tr>\n",
       "  </tbody>\n",
       "</table>\n",
       "</div>"
      ],
      "text/plain": [
       "    age  fever has_covid\n",
       "76   80  100.0       Yes\n",
       "60   24  102.0       Yes\n",
       "67   65   99.0        No\n",
       "59    6  104.0       Yes\n",
       "4    65  101.0        No\n",
       "87   47  101.0        No"
      ]
     },
     "execution_count": 2,
     "metadata": {},
     "output_type": "execute_result"
    }
   ],
   "source": [
    "df= pd.read_csv('covid_toy.csv',usecols = ['age','fever','has_covid'])\n",
    "df.sample(6)"
   ]
  },
  {
   "cell_type": "code",
   "execution_count": 3,
   "id": "b0116ae9",
   "metadata": {},
   "outputs": [],
   "source": [
    "# ohe = OneHotEncoder(drop='first',sparse=False)\n",
    "ohe=OneHotEncoder(drop=\"first\",sparse=False)\n",
    "df1 = ohe.fit_transform(df[['has_covid']])"
   ]
  },
  {
   "cell_type": "code",
   "execution_count": 4,
   "id": "9199efe5",
   "metadata": {},
   "outputs": [
    {
     "name": "stdout",
     "output_type": "stream",
     "text": [
      "<class 'pandas.core.frame.DataFrame'>\n",
      "RangeIndex: 100 entries, 0 to 99\n",
      "Data columns (total 3 columns):\n",
      " #   Column     Non-Null Count  Dtype  \n",
      "---  ------     --------------  -----  \n",
      " 0   age        100 non-null    int64  \n",
      " 1   fever      90 non-null     float64\n",
      " 2   has_covid  100 non-null    object \n",
      "dtypes: float64(1), int64(1), object(1)\n",
      "memory usage: 2.5+ KB\n"
     ]
    }
   ],
   "source": [
    "df.info()"
   ]
  },
  {
   "cell_type": "code",
   "execution_count": 5,
   "id": "b40922f9",
   "metadata": {},
   "outputs": [
    {
     "data": {
      "text/plain": [
       "age           0\n",
       "fever        10\n",
       "has_covid     0\n",
       "dtype: int64"
      ]
     },
     "execution_count": 5,
     "metadata": {},
     "output_type": "execute_result"
    }
   ],
   "source": [
    "df.isnull().sum()"
   ]
  },
  {
   "cell_type": "code",
   "execution_count": 6,
   "id": "c18f8acf",
   "metadata": {},
   "outputs": [],
   "source": [
    "df['fever'].fillna(df['fever'].mean(),inplace=True)"
   ]
  },
  {
   "cell_type": "code",
   "execution_count": 7,
   "id": "c9b46e2e",
   "metadata": {},
   "outputs": [
    {
     "data": {
      "text/plain": [
       "age          0\n",
       "fever        0\n",
       "has_covid    0\n",
       "dtype: int64"
      ]
     },
     "execution_count": 7,
     "metadata": {},
     "output_type": "execute_result"
    }
   ],
   "source": [
    "df.isnull().sum()"
   ]
  },
  {
   "cell_type": "code",
   "execution_count": 8,
   "id": "31e3e2e1",
   "metadata": {
    "scrolled": true
   },
   "outputs": [
    {
     "data": {
      "text/html": [
       "<div>\n",
       "<style scoped>\n",
       "    .dataframe tbody tr th:only-of-type {\n",
       "        vertical-align: middle;\n",
       "    }\n",
       "\n",
       "    .dataframe tbody tr th {\n",
       "        vertical-align: top;\n",
       "    }\n",
       "\n",
       "    .dataframe thead th {\n",
       "        text-align: right;\n",
       "    }\n",
       "</style>\n",
       "<table border=\"1\" class=\"dataframe\">\n",
       "  <thead>\n",
       "    <tr style=\"text-align: right;\">\n",
       "      <th></th>\n",
       "      <th>age</th>\n",
       "      <th>fever</th>\n",
       "      <th>has_covid</th>\n",
       "    </tr>\n",
       "  </thead>\n",
       "  <tbody>\n",
       "    <tr>\n",
       "      <th>48</th>\n",
       "      <td>66</td>\n",
       "      <td>99.000000</td>\n",
       "      <td>No</td>\n",
       "    </tr>\n",
       "    <tr>\n",
       "      <th>85</th>\n",
       "      <td>16</td>\n",
       "      <td>103.000000</td>\n",
       "      <td>Yes</td>\n",
       "    </tr>\n",
       "    <tr>\n",
       "      <th>52</th>\n",
       "      <td>47</td>\n",
       "      <td>100.000000</td>\n",
       "      <td>Yes</td>\n",
       "    </tr>\n",
       "    <tr>\n",
       "      <th>99</th>\n",
       "      <td>10</td>\n",
       "      <td>98.000000</td>\n",
       "      <td>Yes</td>\n",
       "    </tr>\n",
       "    <tr>\n",
       "      <th>56</th>\n",
       "      <td>71</td>\n",
       "      <td>100.844444</td>\n",
       "      <td>No</td>\n",
       "    </tr>\n",
       "    <tr>\n",
       "      <th>97</th>\n",
       "      <td>20</td>\n",
       "      <td>101.000000</td>\n",
       "      <td>No</td>\n",
       "    </tr>\n",
       "  </tbody>\n",
       "</table>\n",
       "</div>"
      ],
      "text/plain": [
       "    age       fever has_covid\n",
       "48   66   99.000000        No\n",
       "85   16  103.000000       Yes\n",
       "52   47  100.000000       Yes\n",
       "99   10   98.000000       Yes\n",
       "56   71  100.844444        No\n",
       "97   20  101.000000        No"
      ]
     },
     "execution_count": 8,
     "metadata": {},
     "output_type": "execute_result"
    }
   ],
   "source": [
    "df.sample(6)"
   ]
  },
  {
   "cell_type": "code",
   "execution_count": 9,
   "id": "821688ce",
   "metadata": {},
   "outputs": [],
   "source": [
    "df3 = df.drop(columns=['has_covid']).values"
   ]
  },
  {
   "cell_type": "code",
   "execution_count": 10,
   "id": "ccc751b6",
   "metadata": {
    "scrolled": true
   },
   "outputs": [
    {
     "data": {
      "text/plain": [
       "array([[ 60.        , 103.        ,   0.        ],\n",
       "       [ 27.        , 100.        ,   1.        ],\n",
       "       [ 42.        , 101.        ,   0.        ],\n",
       "       [ 31.        ,  98.        ,   0.        ],\n",
       "       [ 65.        , 101.        ,   0.        ],\n",
       "       [ 84.        , 100.84444444,   1.        ],\n",
       "       [ 14.        , 101.        ,   0.        ],\n",
       "       [ 20.        , 100.84444444,   1.        ],\n",
       "       [ 19.        , 100.        ,   0.        ],\n",
       "       [ 64.        , 101.        ,   0.        ],\n",
       "       [ 75.        , 100.84444444,   0.        ],\n",
       "       [ 65.        ,  98.        ,   1.        ],\n",
       "       [ 25.        ,  99.        ,   0.        ],\n",
       "       [ 64.        , 102.        ,   1.        ],\n",
       "       [ 51.        , 104.        ,   0.        ],\n",
       "       [ 70.        , 103.        ,   1.        ],\n",
       "       [ 69.        , 103.        ,   1.        ],\n",
       "       [ 40.        ,  98.        ,   0.        ],\n",
       "       [ 64.        ,  98.        ,   1.        ],\n",
       "       [ 42.        , 100.84444444,   1.        ],\n",
       "       [ 12.        ,  98.        ,   0.        ],\n",
       "       [ 73.        ,  98.        ,   1.        ],\n",
       "       [ 71.        ,  98.        ,   1.        ],\n",
       "       [ 80.        ,  98.        ,   1.        ],\n",
       "       [ 13.        , 100.        ,   0.        ],\n",
       "       [ 23.        , 100.84444444,   0.        ],\n",
       "       [ 19.        , 100.        ,   1.        ],\n",
       "       [ 33.        , 102.        ,   0.        ],\n",
       "       [ 16.        , 104.        ,   0.        ],\n",
       "       [ 34.        , 100.84444444,   1.        ],\n",
       "       [ 15.        , 101.        ,   1.        ],\n",
       "       [ 83.        , 103.        ,   0.        ],\n",
       "       [ 34.        , 101.        ,   1.        ],\n",
       "       [ 26.        ,  98.        ,   0.        ],\n",
       "       [ 74.        , 102.        ,   1.        ],\n",
       "       [ 82.        , 102.        ,   0.        ],\n",
       "       [ 38.        , 101.        ,   0.        ],\n",
       "       [ 55.        , 100.        ,   0.        ],\n",
       "       [ 49.        , 101.        ,   1.        ],\n",
       "       [ 50.        , 103.        ,   0.        ],\n",
       "       [ 49.        , 102.        ,   0.        ],\n",
       "       [ 82.        , 100.84444444,   1.        ],\n",
       "       [ 27.        , 100.        ,   1.        ],\n",
       "       [ 22.        ,  99.        ,   1.        ],\n",
       "       [ 20.        , 102.        ,   0.        ],\n",
       "       [ 72.        ,  99.        ,   0.        ],\n",
       "       [ 19.        , 101.        ,   0.        ],\n",
       "       [ 18.        , 104.        ,   0.        ],\n",
       "       [ 66.        ,  99.        ,   0.        ],\n",
       "       [ 44.        , 104.        ,   0.        ],\n",
       "       [ 19.        , 101.        ,   1.        ],\n",
       "       [ 11.        , 100.        ,   1.        ],\n",
       "       [ 47.        , 100.        ,   1.        ],\n",
       "       [ 83.        ,  98.        ,   1.        ],\n",
       "       [ 60.        ,  99.        ,   1.        ],\n",
       "       [ 81.        , 101.        ,   1.        ],\n",
       "       [ 71.        , 100.84444444,   0.        ],\n",
       "       [ 49.        ,  99.        ,   0.        ],\n",
       "       [ 23.        ,  98.        ,   1.        ],\n",
       "       [  6.        , 104.        ,   1.        ],\n",
       "       [ 24.        , 102.        ,   1.        ],\n",
       "       [ 81.        ,  98.        ,   0.        ],\n",
       "       [ 56.        , 104.        ,   1.        ],\n",
       "       [ 10.        , 100.        ,   0.        ],\n",
       "       [ 42.        , 104.        ,   0.        ],\n",
       "       [ 69.        , 102.        ,   0.        ],\n",
       "       [ 51.        , 104.        ,   0.        ],\n",
       "       [ 65.        ,  99.        ,   0.        ],\n",
       "       [ 54.        , 104.        ,   0.        ],\n",
       "       [ 73.        , 103.        ,   0.        ],\n",
       "       [ 68.        , 101.        ,   0.        ],\n",
       "       [ 75.        , 104.        ,   0.        ],\n",
       "       [ 83.        , 101.        ,   0.        ],\n",
       "       [ 34.        ,  98.        ,   1.        ],\n",
       "       [ 34.        , 104.        ,   0.        ],\n",
       "       [  5.        , 102.        ,   1.        ],\n",
       "       [ 80.        , 100.        ,   1.        ],\n",
       "       [  8.        , 101.        ,   0.        ],\n",
       "       [ 11.        , 100.        ,   1.        ],\n",
       "       [ 48.        , 103.        ,   1.        ],\n",
       "       [ 14.        ,  99.        ,   1.        ],\n",
       "       [ 65.        ,  99.        ,   0.        ],\n",
       "       [ 24.        ,  98.        ,   1.        ],\n",
       "       [ 17.        , 104.        ,   0.        ],\n",
       "       [ 69.        ,  98.        ,   0.        ],\n",
       "       [ 16.        , 103.        ,   1.        ],\n",
       "       [ 25.        , 104.        ,   1.        ],\n",
       "       [ 47.        , 101.        ,   0.        ],\n",
       "       [  5.        , 100.        ,   0.        ],\n",
       "       [ 46.        , 103.        ,   0.        ],\n",
       "       [ 59.        ,  99.        ,   0.        ],\n",
       "       [ 38.        , 100.84444444,   1.        ],\n",
       "       [ 82.        , 102.        ,   0.        ],\n",
       "       [ 27.        , 100.        ,   1.        ],\n",
       "       [ 79.        , 100.84444444,   1.        ],\n",
       "       [ 12.        , 104.        ,   0.        ],\n",
       "       [ 51.        , 101.        ,   1.        ],\n",
       "       [ 20.        , 101.        ,   0.        ],\n",
       "       [  5.        ,  98.        ,   0.        ],\n",
       "       [ 10.        ,  98.        ,   1.        ]])"
      ]
     },
     "execution_count": 10,
     "metadata": {},
     "output_type": "execute_result"
    }
   ],
   "source": [
    "df= np.concatenate((df3,df1),axis=1)\n",
    "df"
   ]
  },
  {
   "cell_type": "code",
   "execution_count": 11,
   "id": "821561e6",
   "metadata": {},
   "outputs": [
    {
     "name": "stdout",
     "output_type": "stream",
     "text": [
      "     age  Fever  has_covid\n",
      "0   60.0  103.0        0.0\n",
      "1   27.0  100.0        1.0\n",
      "2   42.0  101.0        0.0\n",
      "3   31.0   98.0        0.0\n",
      "4   65.0  101.0        0.0\n",
      "..   ...    ...        ...\n",
      "95  12.0  104.0        0.0\n",
      "96  51.0  101.0        1.0\n",
      "97  20.0  101.0        0.0\n",
      "98   5.0   98.0        0.0\n",
      "99  10.0   98.0        1.0\n",
      "\n",
      "[100 rows x 3 columns]\n",
      "<class 'pandas.core.frame.DataFrame'>\n"
     ]
    }
   ],
   "source": [
    "df = pd.DataFrame(df, columns = ['age','Fever','has_covid'])\n",
    "\n",
    "print(df)\n",
    "print(type(df))"
   ]
  },
  {
   "cell_type": "code",
   "execution_count": 12,
   "id": "1c50b70c",
   "metadata": {},
   "outputs": [],
   "source": [
    "# import pandas as pd \n",
    "# pd.DataFrame(np_array).to_csv(\"path/to/file.csv\")"
   ]
  },
  {
   "cell_type": "code",
   "execution_count": 13,
   "id": "f4c02624",
   "metadata": {},
   "outputs": [],
   "source": [
    "X = df.iloc[:,0:2]# Age, Fare\n",
    "y = df.iloc[:,-1:]#Survived"
   ]
  },
  {
   "cell_type": "code",
   "execution_count": 14,
   "id": "8bcab0de",
   "metadata": {},
   "outputs": [
    {
     "data": {
      "text/html": [
       "<div>\n",
       "<style scoped>\n",
       "    .dataframe tbody tr th:only-of-type {\n",
       "        vertical-align: middle;\n",
       "    }\n",
       "\n",
       "    .dataframe tbody tr th {\n",
       "        vertical-align: top;\n",
       "    }\n",
       "\n",
       "    .dataframe thead th {\n",
       "        text-align: right;\n",
       "    }\n",
       "</style>\n",
       "<table border=\"1\" class=\"dataframe\">\n",
       "  <thead>\n",
       "    <tr style=\"text-align: right;\">\n",
       "      <th></th>\n",
       "      <th>age</th>\n",
       "      <th>Fever</th>\n",
       "    </tr>\n",
       "  </thead>\n",
       "  <tbody>\n",
       "    <tr>\n",
       "      <th>0</th>\n",
       "      <td>60.0</td>\n",
       "      <td>103.0</td>\n",
       "    </tr>\n",
       "    <tr>\n",
       "      <th>1</th>\n",
       "      <td>27.0</td>\n",
       "      <td>100.0</td>\n",
       "    </tr>\n",
       "    <tr>\n",
       "      <th>2</th>\n",
       "      <td>42.0</td>\n",
       "      <td>101.0</td>\n",
       "    </tr>\n",
       "    <tr>\n",
       "      <th>3</th>\n",
       "      <td>31.0</td>\n",
       "      <td>98.0</td>\n",
       "    </tr>\n",
       "    <tr>\n",
       "      <th>4</th>\n",
       "      <td>65.0</td>\n",
       "      <td>101.0</td>\n",
       "    </tr>\n",
       "    <tr>\n",
       "      <th>...</th>\n",
       "      <td>...</td>\n",
       "      <td>...</td>\n",
       "    </tr>\n",
       "    <tr>\n",
       "      <th>95</th>\n",
       "      <td>12.0</td>\n",
       "      <td>104.0</td>\n",
       "    </tr>\n",
       "    <tr>\n",
       "      <th>96</th>\n",
       "      <td>51.0</td>\n",
       "      <td>101.0</td>\n",
       "    </tr>\n",
       "    <tr>\n",
       "      <th>97</th>\n",
       "      <td>20.0</td>\n",
       "      <td>101.0</td>\n",
       "    </tr>\n",
       "    <tr>\n",
       "      <th>98</th>\n",
       "      <td>5.0</td>\n",
       "      <td>98.0</td>\n",
       "    </tr>\n",
       "    <tr>\n",
       "      <th>99</th>\n",
       "      <td>10.0</td>\n",
       "      <td>98.0</td>\n",
       "    </tr>\n",
       "  </tbody>\n",
       "</table>\n",
       "<p>100 rows × 2 columns</p>\n",
       "</div>"
      ],
      "text/plain": [
       "     age  Fever\n",
       "0   60.0  103.0\n",
       "1   27.0  100.0\n",
       "2   42.0  101.0\n",
       "3   31.0   98.0\n",
       "4   65.0  101.0\n",
       "..   ...    ...\n",
       "95  12.0  104.0\n",
       "96  51.0  101.0\n",
       "97  20.0  101.0\n",
       "98   5.0   98.0\n",
       "99  10.0   98.0\n",
       "\n",
       "[100 rows x 2 columns]"
      ]
     },
     "execution_count": 14,
     "metadata": {},
     "output_type": "execute_result"
    }
   ],
   "source": [
    "X"
   ]
  },
  {
   "cell_type": "code",
   "execution_count": 15,
   "id": "9ce4dc1b",
   "metadata": {},
   "outputs": [],
   "source": [
    "X_train,X_test,y_train,y_test = train_test_split(X,y,test_size=0.2,random_state=42)"
   ]
  },
  {
   "cell_type": "code",
   "execution_count": 16,
   "id": "d1913215",
   "metadata": {
    "scrolled": true
   },
   "outputs": [
    {
     "name": "stderr",
     "output_type": "stream",
     "text": [
      "C:\\Users\\nagam\\anaconda3\\lib\\site-packages\\seaborn\\distributions.py:2619: FutureWarning: `distplot` is a deprecated function and will be removed in a future version. Please adapt your code to use either `displot` (a figure-level function with similar flexibility) or `histplot` (an axes-level function for histograms).\n",
      "  warnings.warn(msg, FutureWarning)\n"
     ]
    },
    {
     "data": {
      "image/png": "[encoded data removed]",
      "text/plain": [
       "<Figure size 1008x288 with 2 Axes>"
      ]
     },
     "metadata": {
      "needs_background": "light"
     },
     "output_type": "display_data"
    }
   ],
   "source": [
    "plt.figure(figsize=(14,4))\n",
    "plt.subplot(121)\n",
    "sns.distplot(X_train['age'])\n",
    "plt.title('age PDF')\n",
    "\n",
    "plt.subplot(122)\n",
    "stats.probplot(X_train['age'],dist=\"norm\", plot=plt)\n",
    "plt.title('age QQ plot')\n",
    "\n",
    "plt.show()"
   ]
  },
  {
   "cell_type": "code",
   "execution_count": 17,
   "id": "f53fecf1",
   "metadata": {},
   "outputs": [
    {
     "name": "stderr",
     "output_type": "stream",
     "text": [
      "C:\\Users\\nagam\\anaconda3\\lib\\site-packages\\seaborn\\distributions.py:2619: FutureWarning: `distplot` is a deprecated function and will be removed in a future version. Please adapt your code to use either `displot` (a figure-level function with similar flexibility) or `histplot` (an axes-level function for histograms).\n",
      "  warnings.warn(msg, FutureWarning)\n"
     ]
    },
    {
     "data": {
      "image/png": "[encoded data removed]",
      "text/plain": [
       "<Figure size 1008x288 with 2 Axes>"
      ]
     },
     "metadata": {
      "needs_background": "light"
     },
     "output_type": "display_data"
    }
   ],
   "source": [
    "plt.figure(figsize=(14,4))\n",
    "plt.subplot(121)\n",
    "sns.distplot(X_train['Fever'])\n",
    "plt.title('fever   PDF')\n",
    "\n",
    "plt.subplot(122)\n",
    "stats.probplot(X_train['Fever'],dist=\"norm\", plot=plt)\n",
    "plt.title('fever QQ plot')\n",
    "\n",
    "plt.show()"
   ]
  },
  {
   "cell_type": "code",
   "execution_count": 18,
   "id": "7d2df0a7",
   "metadata": {},
   "outputs": [],
   "source": [
    "clf =LogisticRegression()\n",
    "clf1 =DecisionTreeClassifier()"
   ]
  },
  {
   "cell_type": "code",
   "execution_count": 19,
   "id": "9dc2abc8",
   "metadata": {},
   "outputs": [
    {
     "name": "stdout",
     "output_type": "stream",
     "text": [
      "accuracy DT 0.65\n",
      "accuracy LR 0.45\n"
     ]
    },
    {
     "name": "stderr",
     "output_type": "stream",
     "text": [
      "C:\\Users\\nagam\\anaconda3\\lib\\site-packages\\sklearn\\utils\\validation.py:63: DataConversionWarning: A column-vector y was passed when a 1d array was expected. Please change the shape of y to (n_samples, ), for example using ravel().\n",
      "  return f(*args, **kwargs)\n"
     ]
    }
   ],
   "source": [
    "clf.fit(X_train,y_train)\n",
    "clf1.fit(X_train,y_train)\n",
    "\n",
    "y_pred = clf.predict(X_test)\n",
    "y_pred1 = clf1.predict(X_test)\n",
    "\n",
    "print(\"accuracy DT\",accuracy_score(y_test,y_pred))\n",
    "print(\"accuracy LR\",accuracy_score(y_test,y_pred1))"
   ]
  },
  {
   "cell_type": "code",
   "execution_count": 20,
   "id": "a6bbbd08",
   "metadata": {},
   "outputs": [],
   "source": [
    "trf = FunctionTransformer(func=np.log1p)"
   ]
  },
  {
   "cell_type": "code",
   "execution_count": 21,
   "id": "152ac50b",
   "metadata": {},
   "outputs": [],
   "source": [
    "X_train_transformed = trf.fit_transform(X_train)\n",
    "X_test_transformed = trf.transform(X_test)"
   ]
  },
  {
   "cell_type": "code",
   "execution_count": 22,
   "id": "983abc46",
   "metadata": {},
   "outputs": [
    {
     "name": "stdout",
     "output_type": "stream",
     "text": [
      "accuracy LR 0.65\n",
      "accuracy DT 0.65\n"
     ]
    },
    {
     "name": "stderr",
     "output_type": "stream",
     "text": [
      "C:\\Users\\nagam\\anaconda3\\lib\\site-packages\\sklearn\\utils\\validation.py:63: DataConversionWarning: A column-vector y was passed when a 1d array was expected. Please change the shape of y to (n_samples, ), for example using ravel().\n",
      "  return f(*args, **kwargs)\n"
     ]
    }
   ],
   "source": [
    "clf =LogisticRegression()\n",
    "clf1 =DecisionTreeClassifier()\n",
    "\n",
    "clf.fit(X_train_transformed,y_train)\n",
    "clf1.fit(X_train_transformed,y_train)\n",
    "\n",
    "y_pred = clf.predict(X_test)\n",
    "y_pred1 = clf1.predict(X_test)\n",
    "\n",
    "print(\"accuracy LR\",accuracy_score(y_test,y_pred))\n",
    "print(\"accuracy DT\",accuracy_score(y_test,y_pred1))"
   ]
  },
  {
   "cell_type": "code",
   "execution_count": 23,
   "id": "001d72ee",
   "metadata": {},
   "outputs": [
    {
     "name": "stderr",
     "output_type": "stream",
     "text": [
      "C:\\Users\\nagam\\anaconda3\\lib\\site-packages\\sklearn\\utils\\validation.py:63: DataConversionWarning: A column-vector y was passed when a 1d array was expected. Please change the shape of y to (n_samples, ), for example using ravel().\n",
      "  return f(*args, **kwargs)\n",
      "C:\\Users\\nagam\\anaconda3\\lib\\site-packages\\sklearn\\utils\\validation.py:63: DataConversionWarning: A column-vector y was passed when a 1d array was expected. Please change the shape of y to (n_samples, ), for example using ravel().\n",
      "  return f(*args, **kwargs)\n",
      "C:\\Users\\nagam\\anaconda3\\lib\\site-packages\\sklearn\\utils\\validation.py:63: DataConversionWarning: A column-vector y was passed when a 1d array was expected. Please change the shape of y to (n_samples, ), for example using ravel().\n",
      "  return f(*args, **kwargs)\n",
      "C:\\Users\\nagam\\anaconda3\\lib\\site-packages\\sklearn\\utils\\validation.py:63: DataConversionWarning: A column-vector y was passed when a 1d array was expected. Please change the shape of y to (n_samples, ), for example using ravel().\n",
      "  return f(*args, **kwargs)\n",
      "C:\\Users\\nagam\\anaconda3\\lib\\site-packages\\sklearn\\utils\\validation.py:63: DataConversionWarning: A column-vector y was passed when a 1d array was expected. Please change the shape of y to (n_samples, ), for example using ravel().\n",
      "  return f(*args, **kwargs)\n",
      "C:\\Users\\nagam\\anaconda3\\lib\\site-packages\\sklearn\\utils\\validation.py:63: DataConversionWarning: A column-vector y was passed when a 1d array was expected. Please change the shape of y to (n_samples, ), for example using ravel().\n",
      "  return f(*args, **kwargs)\n",
      "C:\\Users\\nagam\\anaconda3\\lib\\site-packages\\sklearn\\utils\\validation.py:63: DataConversionWarning: A column-vector y was passed when a 1d array was expected. Please change the shape of y to (n_samples, ), for example using ravel().\n",
      "  return f(*args, **kwargs)\n",
      "C:\\Users\\nagam\\anaconda3\\lib\\site-packages\\sklearn\\utils\\validation.py:63: DataConversionWarning: A column-vector y was passed when a 1d array was expected. Please change the shape of y to (n_samples, ), for example using ravel().\n",
      "  return f(*args, **kwargs)\n",
      "C:\\Users\\nagam\\anaconda3\\lib\\site-packages\\sklearn\\utils\\validation.py:63: DataConversionWarning: A column-vector y was passed when a 1d array was expected. Please change the shape of y to (n_samples, ), for example using ravel().\n",
      "  return f(*args, **kwargs)\n",
      "C:\\Users\\nagam\\anaconda3\\lib\\site-packages\\sklearn\\utils\\validation.py:63: DataConversionWarning: A column-vector y was passed when a 1d array was expected. Please change the shape of y to (n_samples, ), for example using ravel().\n",
      "  return f(*args, **kwargs)\n"
     ]
    },
    {
     "name": "stdout",
     "output_type": "stream",
     "text": [
      "LR 0.51\n",
      "DT 0.5599999999999999\n"
     ]
    }
   ],
   "source": [
    "x_transformed = trf.fit_transform(X)\n",
    "\n",
    "clf =LogisticRegression()\n",
    "clf1 =DecisionTreeClassifier()\n",
    "\n",
    "print(\"LR\",np.mean(cross_val_score(clf,x_transformed,y,scoring=\"accuracy\",cv=10)))\n",
    "print(\"DT\",np.mean(cross_val_score(clf1,x_transformed,y,scoring=\"accuracy\",cv=10)))"
   ]
  },
  {
   "cell_type": "code",
   "execution_count": 24,
   "id": "3b1bc610",
   "metadata": {},
   "outputs": [
    {
     "data": {
      "image/png": "[encoded data removed]",
      "text/plain": [
       "<Figure size 1008x288 with 2 Axes>"
      ]
     },
     "metadata": {
      "needs_background": "light"
     },
     "output_type": "display_data"
    }
   ],
   "source": [
    "plt.figure(figsize=(14,4))\n",
    "\n",
    "plt.subplot(121)\n",
    "stats.probplot(X_train['Fever'],dist = \"norm\",plot=plt)\n",
    "plt.title('Fever Before Log')\n",
    "\n",
    "plt.subplot(122)\n",
    "stats.probplot(X_train_transformed['Fever'],dist=\"norm\", plot=plt)\n",
    "plt.title('Fever After Log')\n",
    "\n",
    "plt.show()"
   ]
  },
  {
   "cell_type": "code",
   "execution_count": 25,
   "id": "8e785eba",
   "metadata": {},
   "outputs": [
    {
     "data": {
      "image/png": "[encoded data removed]",
      "text/plain": [
       "<Figure size 1008x288 with 2 Axes>"
      ]
     },
     "metadata": {
      "needs_background": "light"
     },
     "output_type": "display_data"
    }
   ],
   "source": [
    "plt.figure(figsize=(14,4))\n",
    "\n",
    "plt.subplot(121)\n",
    "stats.probplot(X_train['age'],dist = \"norm\",plot=plt)\n",
    "plt.title('Age Before Log')\n",
    "\n",
    "plt.subplot(122)\n",
    "stats.probplot(X_train_transformed['age'],dist=\"norm\", plot=plt)\n",
    "plt.title('Age After Log')\n",
    "\n",
    "plt.show()"
   ]
  },
  {
   "cell_type": "code",
   "execution_count": 26,
   "id": "cf639c8f",
   "metadata": {},
   "outputs": [],
   "source": [
    "trf2 = ColumnTransformer([('log',FunctionTransformer(np.log1p),['Fever'])],remainder='passthrough')\n",
    "\n",
    "X_train_transformed2 = trf2.fit_transform(X_train)\n",
    "X_test_transformed2 = trf2.fit_transform(X_test)"
   ]
  },
  {
   "cell_type": "code",
   "execution_count": 27,
   "id": "834dc918",
   "metadata": {},
   "outputs": [
    {
     "name": "stdout",
     "output_type": "stream",
     "text": [
      "accuracy LR 0.65\n",
      "accuracy DT 0.45\n"
     ]
    },
    {
     "name": "stderr",
     "output_type": "stream",
     "text": [
      "C:\\Users\\nagam\\anaconda3\\lib\\site-packages\\sklearn\\utils\\validation.py:63: DataConversionWarning: A column-vector y was passed when a 1d array was expected. Please change the shape of y to (n_samples, ), for example using ravel().\n",
      "  return f(*args, **kwargs)\n"
     ]
    }
   ],
   "source": [
    "clf =LogisticRegression()\n",
    "clf1 =DecisionTreeClassifier()\n",
    "\n",
    "clf.fit(X_train_transformed2,y_train)\n",
    "clf1.fit(X_train_transformed2,y_train)\n",
    "\n",
    "y_pred = clf.predict(X_test_transformed2)\n",
    "y_pred1 = clf1.predict(X_test_transformed2)\n",
    "\n",
    "print(\"accuracy LR\",accuracy_score(y_test,y_pred))\n",
    "print(\"accuracy DT\",accuracy_score(y_test,y_pred1))"
   ]
  },
  {
   "cell_type": "code",
   "execution_count": 28,
   "id": "e460b24f",
   "metadata": {},
   "outputs": [
    {
     "name": "stdout",
     "output_type": "stream",
     "text": [
      "LR 0.51\n",
      "DT 0.5599999999999999\n"
     ]
    },
    {
     "name": "stderr",
     "output_type": "stream",
     "text": [
      "C:\\Users\\nagam\\anaconda3\\lib\\site-packages\\sklearn\\utils\\validation.py:63: DataConversionWarning: A column-vector y was passed when a 1d array was expected. Please change the shape of y to (n_samples, ), for example using ravel().\n",
      "  return f(*args, **kwargs)\n",
      "C:\\Users\\nagam\\anaconda3\\lib\\site-packages\\sklearn\\utils\\validation.py:63: DataConversionWarning: A column-vector y was passed when a 1d array was expected. Please change the shape of y to (n_samples, ), for example using ravel().\n",
      "  return f(*args, **kwargs)\n",
      "C:\\Users\\nagam\\anaconda3\\lib\\site-packages\\sklearn\\utils\\validation.py:63: DataConversionWarning: A column-vector y was passed when a 1d array was expected. Please change the shape of y to (n_samples, ), for example using ravel().\n",
      "  return f(*args, **kwargs)\n",
      "C:\\Users\\nagam\\anaconda3\\lib\\site-packages\\sklearn\\utils\\validation.py:63: DataConversionWarning: A column-vector y was passed when a 1d array was expected. Please change the shape of y to (n_samples, ), for example using ravel().\n",
      "  return f(*args, **kwargs)\n",
      "C:\\Users\\nagam\\anaconda3\\lib\\site-packages\\sklearn\\utils\\validation.py:63: DataConversionWarning: A column-vector y was passed when a 1d array was expected. Please change the shape of y to (n_samples, ), for example using ravel().\n",
      "  return f(*args, **kwargs)\n",
      "C:\\Users\\nagam\\anaconda3\\lib\\site-packages\\sklearn\\utils\\validation.py:63: DataConversionWarning: A column-vector y was passed when a 1d array was expected. Please change the shape of y to (n_samples, ), for example using ravel().\n",
      "  return f(*args, **kwargs)\n",
      "C:\\Users\\nagam\\anaconda3\\lib\\site-packages\\sklearn\\utils\\validation.py:63: DataConversionWarning: A column-vector y was passed when a 1d array was expected. Please change the shape of y to (n_samples, ), for example using ravel().\n",
      "  return f(*args, **kwargs)\n",
      "C:\\Users\\nagam\\anaconda3\\lib\\site-packages\\sklearn\\utils\\validation.py:63: DataConversionWarning: A column-vector y was passed when a 1d array was expected. Please change the shape of y to (n_samples, ), for example using ravel().\n",
      "  return f(*args, **kwargs)\n",
      "C:\\Users\\nagam\\anaconda3\\lib\\site-packages\\sklearn\\utils\\validation.py:63: DataConversionWarning: A column-vector y was passed when a 1d array was expected. Please change the shape of y to (n_samples, ), for example using ravel().\n",
      "  return f(*args, **kwargs)\n",
      "C:\\Users\\nagam\\anaconda3\\lib\\site-packages\\sklearn\\utils\\validation.py:63: DataConversionWarning: A column-vector y was passed when a 1d array was expected. Please change the shape of y to (n_samples, ), for example using ravel().\n",
      "  return f(*args, **kwargs)\n"
     ]
    }
   ],
   "source": [
    "x_transformed2 = trf.fit_transform(X)\n",
    "\n",
    "clf =LogisticRegression()\n",
    "clf1 =DecisionTreeClassifier()\n",
    "\n",
    "print(\"LR\",np.mean(cross_val_score(clf,x_transformed2,y,scoring=\"accuracy\",cv=10)))\n",
    "print(\"DT\",np.mean(cross_val_score(clf1,x_transformed2,y,scoring=\"accuracy\",cv=10)))"
   ]
  },
  {
   "cell_type": "code",
   "execution_count": null,
   "id": "b0825fcb",
   "metadata": {},
   "outputs": [],
   "source": []
  }
 ],
 "metadata": {
  "kernelspec": {
   "display_name": "Python 3 (ipykernel)",
   "language": "python",
   "name": "python3"
  },
  "language_info": {
   "codemirror_mode": {
    "name": "ipython",
    "version": 3
   },
   "file_extension": ".py",
   "mimetype": "text/x-python",
   "name": "python",
   "nbconvert_exporter": "python",
   "pygments_lexer": "ipython3",
   "version": "3.9.7"
  }
 },
 "nbformat": 4,
 "nbformat_minor": 5
}
